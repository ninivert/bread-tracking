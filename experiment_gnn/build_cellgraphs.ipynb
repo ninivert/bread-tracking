{
 "cells": [
  {
   "cell_type": "code",
   "execution_count": 1,
   "id": "55ed9e15-e740-4f0f-a9d8-80f812b1947f",
   "metadata": {},
   "outputs": [],
   "source": [
    "%load_ext autoreload\n",
    "%autoreload 2"
   ]
  },
  {
   "cell_type": "code",
   "execution_count": 13,
   "id": "f49d0fd0-a3ed-46a4-ba22-f42cd4c5df51",
   "metadata": {},
   "outputs": [],
   "source": [
    "# standard imports\n",
    "import pandas as pd\n",
    "\n",
    "# data loading\n",
    "import sys\n",
    "sys.path.append('../')\n",
    "import bread.data, bread.data.graph, bread.vis\n",
    "from glob import glob\n",
    "\n",
    "# visualizing\n",
    "import matplotlib.pyplot as plt\n",
    "import networkx as nx\n",
    "%matplotlib inline\n",
    "\n",
    "# utility\n",
    "from tqdm.notebook import tqdm"
   ]
  },
  {
   "cell_type": "markdown",
   "id": "98953ad8-a139-476b-bc08-0c65a58f4478",
   "metadata": {
    "tags": []
   },
   "source": [
    "# Cell graph building"
   ]
  },
  {
   "cell_type": "code",
   "execution_count": 9,
   "id": "e0eba3de-33c9-4538-9173-c3d0397fea90",
   "metadata": {},
   "outputs": [],
   "source": [
    "img_seg = bread.data.load_npz('../data/segmentations/colony007/100.npz')\n",
    "img_vis = bread.data.load_npz('../data/microscopy_PhC/colony007/100.npz')\n",
    "\n",
    "data, df_x, df_e = bread.data.graph.build_cellgraph(img_seg, max_membdist=12, return_df=True)"
   ]
  },
  {
   "cell_type": "code",
   "execution_count": 10,
   "id": "151fbc46-1ec8-4263-8fea-cc79bd87d480",
   "metadata": {
    "scrolled": true,
    "tags": []
   },
   "outputs": [
    {
     "data": {
      "text/html": [
       "<div>\n",
       "<style scoped>\n",
       "    .dataframe tbody tr th:only-of-type {\n",
       "        vertical-align: middle;\n",
       "    }\n",
       "\n",
       "    .dataframe tbody tr th {\n",
       "        vertical-align: top;\n",
       "    }\n",
       "\n",
       "    .dataframe thead th {\n",
       "        text-align: right;\n",
       "    }\n",
       "</style>\n",
       "<table border=\"1\" class=\"dataframe\">\n",
       "  <thead>\n",
       "    <tr style=\"text-align: right;\">\n",
       "      <th></th>\n",
       "      <th>0</th>\n",
       "      <th>1</th>\n",
       "      <th>2</th>\n",
       "    </tr>\n",
       "  </thead>\n",
       "  <tbody>\n",
       "    <tr>\n",
       "      <th>0</th>\n",
       "      <td>4123.5</td>\n",
       "      <td>36.370827</td>\n",
       "      <td>0.397671</td>\n",
       "    </tr>\n",
       "    <tr>\n",
       "      <th>1</th>\n",
       "      <td>5199.0</td>\n",
       "      <td>40.748756</td>\n",
       "      <td>0.451332</td>\n",
       "    </tr>\n",
       "    <tr>\n",
       "      <th>2</th>\n",
       "      <td>1953.0</td>\n",
       "      <td>25.059181</td>\n",
       "      <td>0.558208</td>\n",
       "    </tr>\n",
       "    <tr>\n",
       "      <th>3</th>\n",
       "      <td>2138.5</td>\n",
       "      <td>26.250004</td>\n",
       "      <td>0.620104</td>\n",
       "    </tr>\n",
       "    <tr>\n",
       "      <th>4</th>\n",
       "      <td>3062.0</td>\n",
       "      <td>31.278170</td>\n",
       "      <td>0.144420</td>\n",
       "    </tr>\n",
       "    <tr>\n",
       "      <th>5</th>\n",
       "      <td>2019.5</td>\n",
       "      <td>25.441195</td>\n",
       "      <td>0.410524</td>\n",
       "    </tr>\n",
       "    <tr>\n",
       "      <th>6</th>\n",
       "      <td>3471.5</td>\n",
       "      <td>33.416870</td>\n",
       "      <td>0.343562</td>\n",
       "    </tr>\n",
       "    <tr>\n",
       "      <th>7</th>\n",
       "      <td>1982.0</td>\n",
       "      <td>25.271772</td>\n",
       "      <td>0.376856</td>\n",
       "    </tr>\n",
       "    <tr>\n",
       "      <th>8</th>\n",
       "      <td>1488.5</td>\n",
       "      <td>21.922918</td>\n",
       "      <td>0.203298</td>\n",
       "    </tr>\n",
       "    <tr>\n",
       "      <th>9</th>\n",
       "      <td>1237.0</td>\n",
       "      <td>19.922813</td>\n",
       "      <td>0.473862</td>\n",
       "    </tr>\n",
       "    <tr>\n",
       "      <th>10</th>\n",
       "      <td>346.5</td>\n",
       "      <td>10.613296</td>\n",
       "      <td>0.474519</td>\n",
       "    </tr>\n",
       "    <tr>\n",
       "      <th>11</th>\n",
       "      <td>643.5</td>\n",
       "      <td>14.557712</td>\n",
       "      <td>0.575371</td>\n",
       "    </tr>\n",
       "    <tr>\n",
       "      <th>12</th>\n",
       "      <td>238.5</td>\n",
       "      <td>8.848237</td>\n",
       "      <td>0.388813</td>\n",
       "    </tr>\n",
       "  </tbody>\n",
       "</table>\n",
       "</div>"
      ],
      "text/plain": [
       "         0          1         2\n",
       "0   4123.5  36.370827  0.397671\n",
       "1   5199.0  40.748756  0.451332\n",
       "2   1953.0  25.059181  0.558208\n",
       "3   2138.5  26.250004  0.620104\n",
       "4   3062.0  31.278170  0.144420\n",
       "5   2019.5  25.441195  0.410524\n",
       "6   3471.5  33.416870  0.343562\n",
       "7   1982.0  25.271772  0.376856\n",
       "8   1488.5  21.922918  0.203298\n",
       "9   1237.0  19.922813  0.473862\n",
       "10   346.5  10.613296  0.474519\n",
       "11   643.5  14.557712  0.575371\n",
       "12   238.5   8.848237  0.388813"
      ]
     },
     "execution_count": 10,
     "metadata": {},
     "output_type": "execute_result"
    }
   ],
   "source": [
    "pd.DataFrame(data.x, dtype=float)"
   ]
  },
  {
   "cell_type": "code",
   "execution_count": 11,
   "id": "22ae6714-7e2b-443d-95b8-43c1a5d7b3ba",
   "metadata": {
    "scrolled": true,
    "tags": []
   },
   "outputs": [
    {
     "data": {
      "text/html": [
       "<div>\n",
       "<style scoped>\n",
       "    .dataframe tbody tr th:only-of-type {\n",
       "        vertical-align: middle;\n",
       "    }\n",
       "\n",
       "    .dataframe tbody tr th {\n",
       "        vertical-align: top;\n",
       "    }\n",
       "\n",
       "    .dataframe thead th {\n",
       "        text-align: right;\n",
       "    }\n",
       "</style>\n",
       "<table border=\"1\" class=\"dataframe\">\n",
       "  <thead>\n",
       "    <tr style=\"text-align: right;\">\n",
       "      <th></th>\n",
       "      <th>0</th>\n",
       "      <th>1</th>\n",
       "      <th>2</th>\n",
       "    </tr>\n",
       "  </thead>\n",
       "  <tbody>\n",
       "    <tr>\n",
       "      <th>0</th>\n",
       "      <td>82.904549</td>\n",
       "      <td>-2.284549</td>\n",
       "      <td>2.828427</td>\n",
       "    </tr>\n",
       "    <tr>\n",
       "      <th>1</th>\n",
       "      <td>58.771404</td>\n",
       "      <td>1.753255</td>\n",
       "      <td>2.000000</td>\n",
       "    </tr>\n",
       "    <tr>\n",
       "      <th>2</th>\n",
       "      <td>61.472282</td>\n",
       "      <td>0.117374</td>\n",
       "      <td>2.236068</td>\n",
       "    </tr>\n",
       "    <tr>\n",
       "      <th>3</th>\n",
       "      <td>66.115593</td>\n",
       "      <td>0.924599</td>\n",
       "      <td>2.828427</td>\n",
       "    </tr>\n",
       "    <tr>\n",
       "      <th>4</th>\n",
       "      <td>67.240700</td>\n",
       "      <td>-1.349687</td>\n",
       "      <td>2.236068</td>\n",
       "    </tr>\n",
       "    <tr>\n",
       "      <th>5</th>\n",
       "      <td>56.763657</td>\n",
       "      <td>2.632945</td>\n",
       "      <td>2.236068</td>\n",
       "    </tr>\n",
       "    <tr>\n",
       "      <th>6</th>\n",
       "      <td>67.773560</td>\n",
       "      <td>-2.865859</td>\n",
       "      <td>2.828427</td>\n",
       "    </tr>\n",
       "    <tr>\n",
       "      <th>7</th>\n",
       "      <td>69.084625</td>\n",
       "      <td>-0.042501</td>\n",
       "      <td>2.000000</td>\n",
       "    </tr>\n",
       "    <tr>\n",
       "      <th>8</th>\n",
       "      <td>50.723869</td>\n",
       "      <td>-0.098942</td>\n",
       "      <td>2.828427</td>\n",
       "    </tr>\n",
       "    <tr>\n",
       "      <th>9</th>\n",
       "      <td>49.228291</td>\n",
       "      <td>-2.482378</td>\n",
       "      <td>2.236068</td>\n",
       "    </tr>\n",
       "    <tr>\n",
       "      <th>10</th>\n",
       "      <td>37.857548</td>\n",
       "      <td>2.646928</td>\n",
       "      <td>2.236068</td>\n",
       "    </tr>\n",
       "    <tr>\n",
       "      <th>11</th>\n",
       "      <td>50.290882</td>\n",
       "      <td>2.006770</td>\n",
       "      <td>2.236068</td>\n",
       "    </tr>\n",
       "    <tr>\n",
       "      <th>12</th>\n",
       "      <td>46.840672</td>\n",
       "      <td>-0.598008</td>\n",
       "      <td>2.236068</td>\n",
       "    </tr>\n",
       "    <tr>\n",
       "      <th>13</th>\n",
       "      <td>50.725140</td>\n",
       "      <td>1.089635</td>\n",
       "      <td>2.236068</td>\n",
       "    </tr>\n",
       "    <tr>\n",
       "      <th>14</th>\n",
       "      <td>44.717838</td>\n",
       "      <td>-0.013886</td>\n",
       "      <td>2.000000</td>\n",
       "    </tr>\n",
       "    <tr>\n",
       "      <th>15</th>\n",
       "      <td>36.008614</td>\n",
       "      <td>0.681827</td>\n",
       "      <td>2.236068</td>\n",
       "    </tr>\n",
       "    <tr>\n",
       "      <th>16</th>\n",
       "      <td>35.422432</td>\n",
       "      <td>-1.149112</td>\n",
       "      <td>2.236068</td>\n",
       "    </tr>\n",
       "    <tr>\n",
       "      <th>17</th>\n",
       "      <td>48.448555</td>\n",
       "      <td>1.455072</td>\n",
       "      <td>10.000000</td>\n",
       "    </tr>\n",
       "    <tr>\n",
       "      <th>18</th>\n",
       "      <td>28.710510</td>\n",
       "      <td>2.193958</td>\n",
       "      <td>1.000000</td>\n",
       "    </tr>\n",
       "  </tbody>\n",
       "</table>\n",
       "</div>"
      ],
      "text/plain": [
       "            0         1          2\n",
       "0   82.904549 -2.284549   2.828427\n",
       "1   58.771404  1.753255   2.000000\n",
       "2   61.472282  0.117374   2.236068\n",
       "3   66.115593  0.924599   2.828427\n",
       "4   67.240700 -1.349687   2.236068\n",
       "5   56.763657  2.632945   2.236068\n",
       "6   67.773560 -2.865859   2.828427\n",
       "7   69.084625 -0.042501   2.000000\n",
       "8   50.723869 -0.098942   2.828427\n",
       "9   49.228291 -2.482378   2.236068\n",
       "10  37.857548  2.646928   2.236068\n",
       "11  50.290882  2.006770   2.236068\n",
       "12  46.840672 -0.598008   2.236068\n",
       "13  50.725140  1.089635   2.236068\n",
       "14  44.717838 -0.013886   2.000000\n",
       "15  36.008614  0.681827   2.236068\n",
       "16  35.422432 -1.149112   2.236068\n",
       "17  48.448555  1.455072  10.000000\n",
       "18  28.710510  2.193958   1.000000"
      ]
     },
     "execution_count": 11,
     "metadata": {},
     "output_type": "execute_result"
    }
   ],
   "source": [
    "pd.DataFrame(data.edge_attr, dtype=float)"
   ]
  },
  {
   "cell_type": "code",
   "execution_count": 14,
   "id": "4c36f4da-e423-4766-b04e-cff2e6530224",
   "metadata": {},
   "outputs": [
    {
     "data": {
      "image/png": "[encoded data removed]",
      "text/plain": [
       "<Figure size 288x288 with 1 Axes>"
      ]
     },
     "metadata": {
      "needs_background": "light"
     },
     "output_type": "display_data"
    }
   ],
   "source": [
    "plt.close('all')\n",
    "figax = bread.vis.plot_visible(img_vis)\n",
    "figax = bread.vis.plot_seg(img_seg, figax=figax, alpha=0.5)\n",
    "figax = bread.vis.plot_graph(img_seg, df_e.loc[:, ['cell_id1', 'cell_id2']].to_numpy(), figax=figax)\n",
    "plt.show(figax[0])"
   ]
  },
  {
   "cell_type": "code",
   "execution_count": 16,
   "id": "0592dbca-2aba-48df-8aee-e343f5921995",
   "metadata": {},
   "outputs": [
    {
     "data": {
      "image/png": "[encoded data removed]",
      "text/plain": [
       "<Figure size 432x288 with 1 Axes>"
      ]
     },
     "metadata": {},
     "output_type": "display_data"
    }
   ],
   "source": [
    "# Verify that we indeed have made no mistake when storing the graph\n",
    "import bread.vis.graph\n",
    "\n",
    "plt.close('all')\n",
    "bread.vis.graph.plot_graph_networkx(\n",
    "\tdata,\n",
    "\tpos=bread.utils.get_cms(img_seg)[:, [1, 0]],\n",
    "\twith_labels=True\n",
    ")\n",
    "plt.gca().invert_yaxis()\n",
    "plt.show()"
   ]
  },
  {
   "cell_type": "markdown",
   "id": "d147beaf-9e0c-44df-859e-0a05c7e1e57e",
   "metadata": {},
   "source": [
    "# Saving the dataset"
   ]
  },
  {
   "cell_type": "code",
   "execution_count": 18,
   "id": "5a4834e9-799a-4b26-810e-e052e4282d9e",
   "metadata": {},
   "outputs": [
    {
     "data": {
      "application/vnd.jupyter.widget-view+json": {
       "model_id": "e746ca762d154cffa06ba0abc035edc3",
       "version_major": 2,
       "version_minor": 0
      },
      "text/plain": [
       "colony:   0%|          | 0/5 [00:00<?, ?it/s]"
      ]
     },
     "metadata": {},
     "output_type": "display_data"
    },
    {
     "data": {
      "application/vnd.jupyter.widget-view+json": {
       "model_id": "7750eb9df278465aad2d7b0e9d2695ca",
       "version_major": 2,
       "version_minor": 0
      },
      "text/plain": [
       "frame:   0%|          | 0/180 [00:00<?, ?it/s]"
      ]
     },
     "metadata": {},
     "output_type": "display_data"
    },
    {
     "data": {
      "application/vnd.jupyter.widget-view+json": {
       "model_id": "5b443492f8754e0b924c93ef0f6f3427",
       "version_major": 2,
       "version_minor": 0
      },
      "text/plain": [
       "frame:   0%|          | 0/180 [00:00<?, ?it/s]"
      ]
     },
     "metadata": {},
     "output_type": "display_data"
    },
    {
     "data": {
      "application/vnd.jupyter.widget-view+json": {
       "model_id": "61fd81cf91284efb9f541a7a39cff1e2",
       "version_major": 2,
       "version_minor": 0
      },
      "text/plain": [
       "frame:   0%|          | 0/180 [00:00<?, ?it/s]"
      ]
     },
     "metadata": {},
     "output_type": "display_data"
    },
    {
     "data": {
      "application/vnd.jupyter.widget-view+json": {
       "model_id": "0d128f27f0c54405b487997d67794480",
       "version_major": 2,
       "version_minor": 0
      },
      "text/plain": [
       "frame:   0%|          | 0/180 [00:00<?, ?it/s]"
      ]
     },
     "metadata": {},
     "output_type": "display_data"
    },
    {
     "data": {
      "application/vnd.jupyter.widget-view+json": {
       "model_id": "de82a454febf4f7885941b2213803fd6",
       "version_major": 2,
       "version_minor": 0
      },
      "text/plain": [
       "frame:   0%|          | 0/180 [00:00<?, ?it/s]"
      ]
     },
     "metadata": {},
     "output_type": "display_data"
    }
   ],
   "source": [
    "colony_ids = (0, 1, 2, 3, 7)\n",
    "\n",
    "for colony_id in tqdm(colony_ids, desc='colony'):\n",
    "\t# Load the segmentation for one colony\n",
    "\timgs_seg = bread.data.load_npz(sorted(glob('../data/segmentations/colony{:03d}/*.npz'.format(colony_id))))\n",
    "\tfor time_id, img_seg in enumerate(tqdm(imgs_seg, desc='frame')):\n",
    "\t\t# Build the graph\n",
    "\t\tdata = bread.data.graph.build_cellgraph(img_seg, max_membdist=12)\n",
    "\n",
    "\t\t# Save to disk\n",
    "\t\tbread.data.dump_npz('data/cellgraphs/colony{:03d}/{:03d}.npz'.format(colony_id, time_id), data.to_dict(), force=True)"
   ]
  },
  {
   "cell_type": "markdown",
   "id": "4bc922de-cb21-4161-a0aa-24103964df3b",
   "metadata": {},
   "source": [
    "# Loading data saved to disk"
   ]
  },
  {
   "cell_type": "code",
   "execution_count": 20,
   "id": "4de3aac6-a86d-40b9-8269-5125753294fb",
   "metadata": {},
   "outputs": [
    {
     "data": {
      "image/png": "[encoded data removed]",
      "text/plain": [
       "<Figure size 432x288 with 1 Axes>"
      ]
     },
     "metadata": {},
     "output_type": "display_data"
    }
   ],
   "source": [
    "data = bread.data.graph.from_npz(bread.data.load_npz('data/cellgraphs/colony007/100.npz'))\n",
    "plt.close('all')\n",
    "bread.vis.graph.plot_graph_networkx(data, with_labels=True)\n",
    "plt.show()"
   ]
  },
  {
   "cell_type": "code",
   "execution_count": 22,
   "id": "fee474a0-a61c-45c0-8756-9683293562fa",
   "metadata": {},
   "outputs": [],
   "source": [
    "import numpy as np"
   ]
  },
  {
   "cell_type": "code",
   "execution_count": 23,
   "id": "5f97f9ff-9bed-436e-966f-d4c8a9528b59",
   "metadata": {
    "scrolled": true,
    "tags": []
   },
   "outputs": [
    {
     "data": {
      "text/html": [
       "<div>\n",
       "<style scoped>\n",
       "    .dataframe tbody tr th:only-of-type {\n",
       "        vertical-align: middle;\n",
       "    }\n",
       "\n",
       "    .dataframe tbody tr th {\n",
       "        vertical-align: top;\n",
       "    }\n",
       "\n",
       "    .dataframe thead th {\n",
       "        text-align: right;\n",
       "    }\n",
       "</style>\n",
       "<table border=\"1\" class=\"dataframe\">\n",
       "  <thead>\n",
       "    <tr style=\"text-align: right;\">\n",
       "      <th></th>\n",
       "      <th>A</th>\n",
       "      <th>r</th>\n",
       "      <th>e</th>\n",
       "    </tr>\n",
       "  </thead>\n",
       "  <tbody>\n",
       "    <tr>\n",
       "      <th>0</th>\n",
       "      <td>4123.5</td>\n",
       "      <td>36.370827</td>\n",
       "      <td>0.397671</td>\n",
       "    </tr>\n",
       "    <tr>\n",
       "      <th>1</th>\n",
       "      <td>5199.0</td>\n",
       "      <td>40.748756</td>\n",
       "      <td>0.451332</td>\n",
       "    </tr>\n",
       "    <tr>\n",
       "      <th>2</th>\n",
       "      <td>1953.0</td>\n",
       "      <td>25.059181</td>\n",
       "      <td>0.558208</td>\n",
       "    </tr>\n",
       "    <tr>\n",
       "      <th>3</th>\n",
       "      <td>2138.5</td>\n",
       "      <td>26.250004</td>\n",
       "      <td>0.620104</td>\n",
       "    </tr>\n",
       "    <tr>\n",
       "      <th>4</th>\n",
       "      <td>3062.0</td>\n",
       "      <td>31.278170</td>\n",
       "      <td>0.144420</td>\n",
       "    </tr>\n",
       "    <tr>\n",
       "      <th>5</th>\n",
       "      <td>2019.5</td>\n",
       "      <td>25.441195</td>\n",
       "      <td>0.410524</td>\n",
       "    </tr>\n",
       "    <tr>\n",
       "      <th>6</th>\n",
       "      <td>3471.5</td>\n",
       "      <td>33.416870</td>\n",
       "      <td>0.343562</td>\n",
       "    </tr>\n",
       "    <tr>\n",
       "      <th>7</th>\n",
       "      <td>1982.0</td>\n",
       "      <td>25.271772</td>\n",
       "      <td>0.376856</td>\n",
       "    </tr>\n",
       "    <tr>\n",
       "      <th>8</th>\n",
       "      <td>1488.5</td>\n",
       "      <td>21.922918</td>\n",
       "      <td>0.203298</td>\n",
       "    </tr>\n",
       "    <tr>\n",
       "      <th>9</th>\n",
       "      <td>1237.0</td>\n",
       "      <td>19.922813</td>\n",
       "      <td>0.473862</td>\n",
       "    </tr>\n",
       "    <tr>\n",
       "      <th>10</th>\n",
       "      <td>346.5</td>\n",
       "      <td>10.613296</td>\n",
       "      <td>0.474519</td>\n",
       "    </tr>\n",
       "    <tr>\n",
       "      <th>11</th>\n",
       "      <td>643.5</td>\n",
       "      <td>14.557712</td>\n",
       "      <td>0.575371</td>\n",
       "    </tr>\n",
       "    <tr>\n",
       "      <th>12</th>\n",
       "      <td>238.5</td>\n",
       "      <td>8.848237</td>\n",
       "      <td>0.388813</td>\n",
       "    </tr>\n",
       "  </tbody>\n",
       "</table>\n",
       "</div>"
      ],
      "text/plain": [
       "         A          r         e\n",
       "0   4123.5  36.370827  0.397671\n",
       "1   5199.0  40.748756  0.451332\n",
       "2   1953.0  25.059181  0.558208\n",
       "3   2138.5  26.250004  0.620104\n",
       "4   3062.0  31.278170  0.144420\n",
       "5   2019.5  25.441195  0.410524\n",
       "6   3471.5  33.416870  0.343562\n",
       "7   1982.0  25.271772  0.376856\n",
       "8   1488.5  21.922918  0.203298\n",
       "9   1237.0  19.922813  0.473862\n",
       "10   346.5  10.613296  0.474519\n",
       "11   643.5  14.557712  0.575371\n",
       "12   238.5   8.848237  0.388813"
      ]
     },
     "execution_count": 23,
     "metadata": {},
     "output_type": "execute_result"
    }
   ],
   "source": [
    "pd.DataFrame(np.array(data.x), columns=['A', 'r', 'e'])"
   ]
  },
  {
   "cell_type": "code",
   "execution_count": 24,
   "id": "1f187a51-1d06-43e7-aa12-0aa5f614896d",
   "metadata": {
    "scrolled": true,
    "tags": []
   },
   "outputs": [
    {
     "data": {
      "text/html": [
       "<div>\n",
       "<style scoped>\n",
       "    .dataframe tbody tr th:only-of-type {\n",
       "        vertical-align: middle;\n",
       "    }\n",
       "\n",
       "    .dataframe tbody tr th {\n",
       "        vertical-align: top;\n",
       "    }\n",
       "\n",
       "    .dataframe thead th {\n",
       "        text-align: right;\n",
       "    }\n",
       "</style>\n",
       "<table border=\"1\" class=\"dataframe\">\n",
       "  <thead>\n",
       "    <tr style=\"text-align: right;\">\n",
       "      <th></th>\n",
       "      <th>rho</th>\n",
       "      <th>theta</th>\n",
       "      <th>l</th>\n",
       "    </tr>\n",
       "  </thead>\n",
       "  <tbody>\n",
       "    <tr>\n",
       "      <th>0</th>\n",
       "      <td>82.904549</td>\n",
       "      <td>-2.284549</td>\n",
       "      <td>2.828427</td>\n",
       "    </tr>\n",
       "    <tr>\n",
       "      <th>1</th>\n",
       "      <td>58.771404</td>\n",
       "      <td>1.753255</td>\n",
       "      <td>2.000000</td>\n",
       "    </tr>\n",
       "    <tr>\n",
       "      <th>2</th>\n",
       "      <td>61.472282</td>\n",
       "      <td>0.117374</td>\n",
       "      <td>2.236068</td>\n",
       "    </tr>\n",
       "    <tr>\n",
       "      <th>3</th>\n",
       "      <td>66.115593</td>\n",
       "      <td>0.924599</td>\n",
       "      <td>2.828427</td>\n",
       "    </tr>\n",
       "    <tr>\n",
       "      <th>4</th>\n",
       "      <td>67.240700</td>\n",
       "      <td>-1.349687</td>\n",
       "      <td>2.236068</td>\n",
       "    </tr>\n",
       "    <tr>\n",
       "      <th>5</th>\n",
       "      <td>56.763657</td>\n",
       "      <td>2.632945</td>\n",
       "      <td>2.236068</td>\n",
       "    </tr>\n",
       "    <tr>\n",
       "      <th>6</th>\n",
       "      <td>67.773560</td>\n",
       "      <td>-2.865859</td>\n",
       "      <td>2.828427</td>\n",
       "    </tr>\n",
       "    <tr>\n",
       "      <th>7</th>\n",
       "      <td>69.084625</td>\n",
       "      <td>-0.042501</td>\n",
       "      <td>2.000000</td>\n",
       "    </tr>\n",
       "    <tr>\n",
       "      <th>8</th>\n",
       "      <td>50.723869</td>\n",
       "      <td>-0.098942</td>\n",
       "      <td>2.828427</td>\n",
       "    </tr>\n",
       "    <tr>\n",
       "      <th>9</th>\n",
       "      <td>49.228291</td>\n",
       "      <td>-2.482378</td>\n",
       "      <td>2.236068</td>\n",
       "    </tr>\n",
       "    <tr>\n",
       "      <th>10</th>\n",
       "      <td>37.857548</td>\n",
       "      <td>2.646928</td>\n",
       "      <td>2.236068</td>\n",
       "    </tr>\n",
       "    <tr>\n",
       "      <th>11</th>\n",
       "      <td>50.290882</td>\n",
       "      <td>2.006770</td>\n",
       "      <td>2.236068</td>\n",
       "    </tr>\n",
       "    <tr>\n",
       "      <th>12</th>\n",
       "      <td>46.840672</td>\n",
       "      <td>-0.598008</td>\n",
       "      <td>2.236068</td>\n",
       "    </tr>\n",
       "    <tr>\n",
       "      <th>13</th>\n",
       "      <td>50.725140</td>\n",
       "      <td>1.089635</td>\n",
       "      <td>2.236068</td>\n",
       "    </tr>\n",
       "    <tr>\n",
       "      <th>14</th>\n",
       "      <td>44.717838</td>\n",
       "      <td>-0.013886</td>\n",
       "      <td>2.000000</td>\n",
       "    </tr>\n",
       "    <tr>\n",
       "      <th>15</th>\n",
       "      <td>36.008614</td>\n",
       "      <td>0.681827</td>\n",
       "      <td>2.236068</td>\n",
       "    </tr>\n",
       "    <tr>\n",
       "      <th>16</th>\n",
       "      <td>35.422432</td>\n",
       "      <td>-1.149112</td>\n",
       "      <td>2.236068</td>\n",
       "    </tr>\n",
       "    <tr>\n",
       "      <th>17</th>\n",
       "      <td>48.448555</td>\n",
       "      <td>1.455072</td>\n",
       "      <td>10.000000</td>\n",
       "    </tr>\n",
       "    <tr>\n",
       "      <th>18</th>\n",
       "      <td>28.710510</td>\n",
       "      <td>2.193958</td>\n",
       "      <td>1.000000</td>\n",
       "    </tr>\n",
       "  </tbody>\n",
       "</table>\n",
       "</div>"
      ],
      "text/plain": [
       "          rho     theta          l\n",
       "0   82.904549 -2.284549   2.828427\n",
       "1   58.771404  1.753255   2.000000\n",
       "2   61.472282  0.117374   2.236068\n",
       "3   66.115593  0.924599   2.828427\n",
       "4   67.240700 -1.349687   2.236068\n",
       "5   56.763657  2.632945   2.236068\n",
       "6   67.773560 -2.865859   2.828427\n",
       "7   69.084625 -0.042501   2.000000\n",
       "8   50.723869 -0.098942   2.828427\n",
       "9   49.228291 -2.482378   2.236068\n",
       "10  37.857548  2.646928   2.236068\n",
       "11  50.290882  2.006770   2.236068\n",
       "12  46.840672 -0.598008   2.236068\n",
       "13  50.725140  1.089635   2.236068\n",
       "14  44.717838 -0.013886   2.000000\n",
       "15  36.008614  0.681827   2.236068\n",
       "16  35.422432 -1.149112   2.236068\n",
       "17  48.448555  1.455072  10.000000\n",
       "18  28.710510  2.193958   1.000000"
      ]
     },
     "execution_count": 24,
     "metadata": {},
     "output_type": "execute_result"
    }
   ],
   "source": [
    "pd.DataFrame(np.array(data.edge_attr), columns=['rho', 'theta', 'l'])"
   ]
  }
 ],
 "metadata": {
  "kernelspec": {
   "display_name": "Python 3",
   "language": "python",
   "name": "python3"
  },
  "language_info": {
   "codemirror_mode": {
    "name": "ipython",
    "version": 3
   },
   "file_extension": ".py",
   "mimetype": "text/x-python",
   "name": "python",
   "nbconvert_exporter": "python",
   "pygments_lexer": "ipython3",
   "version": "3.9.0"
  }
 },
 "nbformat": 4,
 "nbformat_minor": 5
}
