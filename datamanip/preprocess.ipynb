{
 "cells": [
  {
   "cell_type": "code",
   "execution_count": 2,
   "id": "391087ad-c643-4581-bd52-d33b4d0bcc0d",
   "metadata": {},
   "outputs": [],
   "source": [
    "%load_ext autoreload\n",
    "%autoreload 2"
   ]
  },
  {
   "cell_type": "code",
   "execution_count": 8,
   "id": "1d48265e-2dac-4490-afad-50dd848bded6",
   "metadata": {},
   "outputs": [],
   "source": [
    "import sys\n",
    "sys.path.append('..')\n",
    "import bread.data as data\n",
    "import bread.data.segmentation, bread.data.microscopy\n",
    "from glob import glob\n",
    "import os\n",
    "import re\n",
    "\n",
    "# utility\n",
    "from tqdm.notebook import tqdm"
   ]
  },
  {
   "cell_type": "markdown",
   "id": "35f36061-67ae-4c0b-9034-462d439bc0bf",
   "metadata": {},
   "source": [
    "# Preprocess segmentations"
   ]
  },
  {
   "cell_type": "code",
   "execution_count": 6,
   "id": "c5770300-9f5c-431f-b8ad-744ee74a1cbe",
   "metadata": {},
   "outputs": [
    {
     "data": {
      "application/vnd.jupyter.widget-view+json": {
       "model_id": "ee7ca0108f4a4365838b600a9092f3ef",
       "version_major": 2,
       "version_minor": 0
      },
      "text/plain": [
       "colony:   0%|          | 0/1 [00:00<?, ?it/s]"
      ]
     },
     "metadata": {},
     "output_type": "display_data"
    },
    {
     "data": {
      "application/vnd.jupyter.widget-view+json": {
       "model_id": "bf8e9e54f21d4ea3bb892048cb5a568a",
       "version_major": 2,
       "version_minor": 0
      },
      "text/plain": [
       "frame:   0%|          | 0/180 [00:00<?, ?it/s]"
      ]
     },
     "metadata": {},
     "output_type": "display_data"
    }
   ],
   "source": [
    "for filepath in tqdm(sorted(glob('../data/segmentations_yeaz/colony007.h5')), desc='colony'):\n",
    "\timgs_seg = data.segmentation.load_segmentations_yeaz(filepath)\n",
    "\toutdir = os.path.join('../data/segmentations', os.path.basename(filepath)[:-3])\n",
    "\t\n",
    "\tfor idt, img_seg in enumerate(tqdm(imgs_seg[:-1], desc='frame')):  # we ignore the last segmentation because YeaZ bugs and doesn't save it\n",
    "\t\tdata.dump_npz(os.path.join(outdir, '{:03d}.npz'.format(idt)), dict(img_seg=img_seg), force=True)"
   ]
  },
  {
   "cell_type": "markdown",
   "id": "732dd32b-2a4a-4a19-81d3-7ce1774bdfd6",
   "metadata": {},
   "source": [
    "# Preprocess microscopy"
   ]
  },
  {
   "cell_type": "code",
   "execution_count": 10,
   "id": "9b930f18-8779-4631-8d82-c3a7269512cc",
   "metadata": {},
   "outputs": [
    {
     "data": {
      "application/vnd.jupyter.widget-view+json": {
       "model_id": "f80ed890ec2c40d592826fd42ebe7925",
       "version_major": 2,
       "version_minor": 0
      },
      "text/plain": [
       "colony:   0%|          | 0/1 [00:00<?, ?it/s]"
      ]
     },
     "metadata": {},
     "output_type": "display_data"
    },
    {
     "data": {
      "application/vnd.jupyter.widget-view+json": {
       "model_id": "b494bcca7bd04e1fa07564ea98041dad",
       "version_major": 2,
       "version_minor": 0
      },
      "text/plain": [
       "frame:   0%|          | 0/181 [00:00<?, ?it/s]"
      ]
     },
     "metadata": {},
     "output_type": "display_data"
    }
   ],
   "source": [
    "for filepath in tqdm(sorted(glob('../data/microscopy_raw/colony007.tif')), desc='colony'):\n",
    "\timgs_micro = data.microscopy.load_microscopy_raw(filepath)\n",
    "\toutdir = re.findall(r'colony\\d\\d\\d', filepath)[0]\n",
    "\t\n",
    "\tfor idt, img_micro in enumerate(tqdm(imgs_micro, desc='frame')):\n",
    "\t\tdata.dump_npz(os.path.join('..', 'data', 'microscopy_PhC', outdir, '{:03d}.npz'.format(idt)), dict(img_phc=img_micro[0]), force=True)\n",
    "\t\tdata.dump_npz(os.path.join('..', 'data', 'microscopy_GFP', outdir, '{:03d}.npz'.format(idt)), dict(img_phc=img_micro[1]), force=True)\n",
    "\t\tdata.dump_npz(os.path.join('..', 'data', 'microscopy_mCherry', outdir, '{:03d}.npz'.format(idt)), dict(img_phc=img_micro[2]), force=True)"
   ]
  }
 ],
 "metadata": {
  "kernelspec": {
   "display_name": "Python 3",
   "language": "python",
   "name": "python3"
  },
  "language_info": {
   "codemirror_mode": {
    "name": "ipython",
    "version": 3
   },
   "file_extension": ".py",
   "mimetype": "text/x-python",
   "name": "python",
   "nbconvert_exporter": "python",
   "pygments_lexer": "ipython3",
   "version": "3.9.0"
  }
 },
 "nbformat": 4,
 "nbformat_minor": 5
}
